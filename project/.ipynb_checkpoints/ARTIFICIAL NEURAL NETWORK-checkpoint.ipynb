{
 "cells": [
  {
   "cell_type": "code",
   "execution_count": 5,
   "id": "f431a372",
   "metadata": {},
   "outputs": [],
   "source": [
    "import pandas as pd\n",
    "import numpy as np\n",
    "from sklearn.impute import KNNImputer\n",
    "\n",
    "from sklearn.preprocessing import LabelEncoder,StandardScaler\n",
    "from sklearn.linear_model import LogisticRegression\n",
    "from sklearn.neighbors import KNeighborsClassifier\n",
    "from sklearn.svm import SVC\n",
    "from sklearn.tree import DecisionTreeClassifier\n",
    "from sklearn.ensemble import RandomForestClassifier\n",
    "from sklearn.model_selection import train_test_split\n",
    "import warnings\n",
    "warnings.filterwarnings(\"ignore\")\n",
    "import matplotlib.pyplot as plt\n",
    "import seaborn as sns\n",
    "\n",
    "\n",
    "\n",
    "\n",
    "\n",
    "from keras.layers import Dense, BatchNormalization, Dropout, LSTM\n",
    "from keras.models import Sequential\n",
    "from keras.utils import to_categorical\n",
    "from keras.optimizers import Adam\n",
    "from tensorflow.keras import regularizers\n",
    "from sklearn.metrics import precision_score, recall_score, confusion_matrix, classification_report, accuracy_score, f1_score\n",
    "from keras import callbacks"
   ]
  },
  {
   "cell_type": "code",
   "execution_count": 6,
   "id": "82e67bf4",
   "metadata": {},
   "outputs": [],
   "source": [
    "df=pd.read_csv(\"\\KAIZEN\\weatherAUS.csv\\weatherAUS.csv\")"
   ]
  },
  {
   "cell_type": "code",
   "execution_count": 7,
   "id": "74ef850e",
   "metadata": {},
   "outputs": [
    {
     "data": {
      "text/html": [
       "<div>\n",
       "<style scoped>\n",
       "    .dataframe tbody tr th:only-of-type {\n",
       "        vertical-align: middle;\n",
       "    }\n",
       "\n",
       "    .dataframe tbody tr th {\n",
       "        vertical-align: top;\n",
       "    }\n",
       "\n",
       "    .dataframe thead th {\n",
       "        text-align: right;\n",
       "    }\n",
       "</style>\n",
       "<table border=\"1\" class=\"dataframe\">\n",
       "  <thead>\n",
       "    <tr style=\"text-align: right;\">\n",
       "      <th></th>\n",
       "      <th>Date</th>\n",
       "      <th>Location</th>\n",
       "      <th>WindGustDir</th>\n",
       "      <th>WindDir9am</th>\n",
       "      <th>WindDir3pm</th>\n",
       "      <th>RainToday</th>\n",
       "      <th>RainTomorrow</th>\n",
       "    </tr>\n",
       "  </thead>\n",
       "  <tbody>\n",
       "    <tr>\n",
       "      <th>0</th>\n",
       "      <td>2008-12-01</td>\n",
       "      <td>Albury</td>\n",
       "      <td>W</td>\n",
       "      <td>W</td>\n",
       "      <td>WNW</td>\n",
       "      <td>No</td>\n",
       "      <td>No</td>\n",
       "    </tr>\n",
       "    <tr>\n",
       "      <th>1</th>\n",
       "      <td>2008-12-02</td>\n",
       "      <td>Albury</td>\n",
       "      <td>WNW</td>\n",
       "      <td>NNW</td>\n",
       "      <td>WSW</td>\n",
       "      <td>No</td>\n",
       "      <td>No</td>\n",
       "    </tr>\n",
       "    <tr>\n",
       "      <th>2</th>\n",
       "      <td>2008-12-03</td>\n",
       "      <td>Albury</td>\n",
       "      <td>WSW</td>\n",
       "      <td>W</td>\n",
       "      <td>WSW</td>\n",
       "      <td>No</td>\n",
       "      <td>No</td>\n",
       "    </tr>\n",
       "    <tr>\n",
       "      <th>3</th>\n",
       "      <td>2008-12-04</td>\n",
       "      <td>Albury</td>\n",
       "      <td>NE</td>\n",
       "      <td>SE</td>\n",
       "      <td>E</td>\n",
       "      <td>No</td>\n",
       "      <td>No</td>\n",
       "    </tr>\n",
       "    <tr>\n",
       "      <th>4</th>\n",
       "      <td>2008-12-05</td>\n",
       "      <td>Albury</td>\n",
       "      <td>W</td>\n",
       "      <td>ENE</td>\n",
       "      <td>NW</td>\n",
       "      <td>No</td>\n",
       "      <td>No</td>\n",
       "    </tr>\n",
       "  </tbody>\n",
       "</table>\n",
       "</div>"
      ],
      "text/plain": [
       "         Date Location WindGustDir WindDir9am WindDir3pm RainToday  \\\n",
       "0  2008-12-01   Albury           W          W        WNW        No   \n",
       "1  2008-12-02   Albury         WNW        NNW        WSW        No   \n",
       "2  2008-12-03   Albury         WSW          W        WSW        No   \n",
       "3  2008-12-04   Albury          NE         SE          E        No   \n",
       "4  2008-12-05   Albury           W        ENE         NW        No   \n",
       "\n",
       "  RainTomorrow  \n",
       "0           No  \n",
       "1           No  \n",
       "2           No  \n",
       "3           No  \n",
       "4           No  "
      ]
     },
     "execution_count": 7,
     "metadata": {},
     "output_type": "execute_result"
    }
   ],
   "source": [
    "df.select_dtypes(include=\"object\").head()"
   ]
  },
  {
   "cell_type": "code",
   "execution_count": 8,
   "id": "e7bf1889",
   "metadata": {},
   "outputs": [],
   "source": [
    "df.Date=pd.to_datetime(df.Date)"
   ]
  },
  {
   "cell_type": "code",
   "execution_count": 9,
   "id": "132b7ff5",
   "metadata": {},
   "outputs": [],
   "source": [
    "#lable encoded location values , no nan values\n",
    "label=LabelEncoder()\n",
    "df[\"enc_Location\"]=label.fit_transform(df.Location)"
   ]
  },
  {
   "cell_type": "code",
   "execution_count": 10,
   "id": "11a841d2",
   "metadata": {},
   "outputs": [],
   "source": [
    "#handled nan values\n",
    "df.WindGustDir=np.where(df.WindGustDir.isna(),df.WindGustDir.mode(),df.WindGustDir)\n",
    "df.WindDir9am=np.where(df.WindDir9am.isna(),df.WindDir9am.mode(),df.WindDir9am)\n",
    "df.WindDir3pm=np.where(df.WindDir3pm.isna(),df.WindDir3pm.mode(),df.WindDir3pm)\n",
    "df.RainToday=np.where(df.RainToday.isna(),df.RainToday.mode(),df.RainToday)\n",
    "df.RainTomorrow=np.where(df.RainTomorrow.isna(),df.RainTomorrow.mode(),df.RainTomorrow)"
   ]
  },
  {
   "cell_type": "code",
   "execution_count": 11,
   "id": "9b940ff7",
   "metadata": {},
   "outputs": [],
   "source": [
    "for i in ['Location', 'WindGustDir', 'WindDir9am', 'WindDir3pm', 'RainToday','RainTomorrow']:\n",
    "    lab=LabelEncoder()\n",
    "    df[i]=lab.fit_transform(df[i])"
   ]
  },
  {
   "cell_type": "code",
   "execution_count": 12,
   "id": "ebb41e8a",
   "metadata": {},
   "outputs": [],
   "source": [
    "df.drop(\"Date\",axis=1,inplace=True)"
   ]
  },
  {
   "cell_type": "code",
   "execution_count": 13,
   "id": "840cf597",
   "metadata": {},
   "outputs": [],
   "source": [
    "x=df.drop(\"RainTomorrow\",axis=1)\n",
    "y=df.RainTomorrow"
   ]
  },
  {
   "cell_type": "code",
   "execution_count": 14,
   "id": "2658d3f9",
   "metadata": {},
   "outputs": [],
   "source": [
    "cols=[]\n",
    "for i in x.columns:\n",
    "    if df[i].isna().sum()!=0:\n",
    "        cols.append(i)"
   ]
  },
  {
   "cell_type": "code",
   "execution_count": 15,
   "id": "e344c480",
   "metadata": {},
   "outputs": [],
   "source": [
    "for i in cols:\n",
    "    x[i].fillna(x[i].median(),inplace=True)"
   ]
  },
  {
   "cell_type": "code",
   "execution_count": 16,
   "id": "e651069d",
   "metadata": {},
   "outputs": [],
   "source": [
    "x_train,x_test,y_train,y_test=train_test_split(x,y,test_size=0.2,random_state=42,stratify=y)"
   ]
  },
  {
   "cell_type": "code",
   "execution_count": 17,
   "id": "89d19f40",
   "metadata": {},
   "outputs": [
    {
     "data": {
      "text/plain": [
       "Location         0\n",
       "MinTemp          0\n",
       "MaxTemp          0\n",
       "Rainfall         0\n",
       "Evaporation      0\n",
       "Sunshine         0\n",
       "WindGustDir      0\n",
       "WindGustSpeed    0\n",
       "WindDir9am       0\n",
       "WindDir3pm       0\n",
       "WindSpeed9am     0\n",
       "WindSpeed3pm     0\n",
       "Humidity9am      0\n",
       "Humidity3pm      0\n",
       "Pressure9am      0\n",
       "Pressure3pm      0\n",
       "Cloud9am         0\n",
       "Cloud3pm         0\n",
       "Temp9am          0\n",
       "Temp3pm          0\n",
       "RainToday        0\n",
       "enc_Location     0\n",
       "dtype: int64"
      ]
     },
     "execution_count": 17,
     "metadata": {},
     "output_type": "execute_result"
    }
   ],
   "source": [
    "x.isna().sum()"
   ]
  },
  {
   "cell_type": "markdown",
   "id": "9d42becb",
   "metadata": {},
   "source": [
    "### model training"
   ]
  },
  {
   "cell_type": "markdown",
   "id": "b9afde4b",
   "metadata": {},
   "source": [
    "##### artificial neural network"
   ]
  },
  {
   "cell_type": "code",
   "execution_count": 145,
   "id": "792c754f",
   "metadata": {},
   "outputs": [
    {
     "data": {
      "text/html": [
       "<div>\n",
       "<style scoped>\n",
       "    .dataframe tbody tr th:only-of-type {\n",
       "        vertical-align: middle;\n",
       "    }\n",
       "\n",
       "    .dataframe tbody tr th {\n",
       "        vertical-align: top;\n",
       "    }\n",
       "\n",
       "    .dataframe thead th {\n",
       "        text-align: right;\n",
       "    }\n",
       "</style>\n",
       "<table border=\"1\" class=\"dataframe\">\n",
       "  <thead>\n",
       "    <tr style=\"text-align: right;\">\n",
       "      <th></th>\n",
       "      <th>Location</th>\n",
       "      <th>MinTemp</th>\n",
       "      <th>MaxTemp</th>\n",
       "      <th>Rainfall</th>\n",
       "      <th>Evaporation</th>\n",
       "      <th>Sunshine</th>\n",
       "      <th>WindGustDir</th>\n",
       "      <th>WindGustSpeed</th>\n",
       "      <th>WindDir9am</th>\n",
       "      <th>WindDir3pm</th>\n",
       "      <th>...</th>\n",
       "      <th>Humidity9am</th>\n",
       "      <th>Humidity3pm</th>\n",
       "      <th>Pressure9am</th>\n",
       "      <th>Pressure3pm</th>\n",
       "      <th>Cloud9am</th>\n",
       "      <th>Cloud3pm</th>\n",
       "      <th>Temp9am</th>\n",
       "      <th>Temp3pm</th>\n",
       "      <th>RainToday</th>\n",
       "      <th>enc_Location</th>\n",
       "    </tr>\n",
       "  </thead>\n",
       "  <tbody>\n",
       "    <tr>\n",
       "      <th>0</th>\n",
       "      <td>2</td>\n",
       "      <td>13.4</td>\n",
       "      <td>22.9</td>\n",
       "      <td>0.6</td>\n",
       "      <td>4.8</td>\n",
       "      <td>8.4</td>\n",
       "      <td>13</td>\n",
       "      <td>44.0</td>\n",
       "      <td>13</td>\n",
       "      <td>14</td>\n",
       "      <td>...</td>\n",
       "      <td>71.0</td>\n",
       "      <td>22.0</td>\n",
       "      <td>1007.7</td>\n",
       "      <td>1007.1</td>\n",
       "      <td>8.0</td>\n",
       "      <td>5.0</td>\n",
       "      <td>16.9</td>\n",
       "      <td>21.8</td>\n",
       "      <td>0</td>\n",
       "      <td>2</td>\n",
       "    </tr>\n",
       "    <tr>\n",
       "      <th>1</th>\n",
       "      <td>2</td>\n",
       "      <td>7.4</td>\n",
       "      <td>25.1</td>\n",
       "      <td>0.0</td>\n",
       "      <td>4.8</td>\n",
       "      <td>8.4</td>\n",
       "      <td>14</td>\n",
       "      <td>44.0</td>\n",
       "      <td>6</td>\n",
       "      <td>15</td>\n",
       "      <td>...</td>\n",
       "      <td>44.0</td>\n",
       "      <td>25.0</td>\n",
       "      <td>1010.6</td>\n",
       "      <td>1007.8</td>\n",
       "      <td>5.0</td>\n",
       "      <td>5.0</td>\n",
       "      <td>17.2</td>\n",
       "      <td>24.3</td>\n",
       "      <td>0</td>\n",
       "      <td>2</td>\n",
       "    </tr>\n",
       "    <tr>\n",
       "      <th>2</th>\n",
       "      <td>2</td>\n",
       "      <td>12.9</td>\n",
       "      <td>25.7</td>\n",
       "      <td>0.0</td>\n",
       "      <td>4.8</td>\n",
       "      <td>8.4</td>\n",
       "      <td>15</td>\n",
       "      <td>46.0</td>\n",
       "      <td>13</td>\n",
       "      <td>15</td>\n",
       "      <td>...</td>\n",
       "      <td>38.0</td>\n",
       "      <td>30.0</td>\n",
       "      <td>1007.6</td>\n",
       "      <td>1008.7</td>\n",
       "      <td>5.0</td>\n",
       "      <td>2.0</td>\n",
       "      <td>21.0</td>\n",
       "      <td>23.2</td>\n",
       "      <td>0</td>\n",
       "      <td>2</td>\n",
       "    </tr>\n",
       "  </tbody>\n",
       "</table>\n",
       "<p>3 rows × 22 columns</p>\n",
       "</div>"
      ],
      "text/plain": [
       "   Location  MinTemp  MaxTemp  Rainfall  Evaporation  Sunshine  WindGustDir  \\\n",
       "0         2     13.4     22.9       0.6          4.8       8.4           13   \n",
       "1         2      7.4     25.1       0.0          4.8       8.4           14   \n",
       "2         2     12.9     25.7       0.0          4.8       8.4           15   \n",
       "\n",
       "   WindGustSpeed  WindDir9am  WindDir3pm  ...  Humidity9am  Humidity3pm  \\\n",
       "0           44.0          13          14  ...         71.0         22.0   \n",
       "1           44.0           6          15  ...         44.0         25.0   \n",
       "2           46.0          13          15  ...         38.0         30.0   \n",
       "\n",
       "   Pressure9am  Pressure3pm  Cloud9am  Cloud3pm  Temp9am  Temp3pm  RainToday  \\\n",
       "0       1007.7       1007.1       8.0       5.0     16.9     21.8          0   \n",
       "1       1010.6       1007.8       5.0       5.0     17.2     24.3          0   \n",
       "2       1007.6       1008.7       5.0       2.0     21.0     23.2          0   \n",
       "\n",
       "   enc_Location  \n",
       "0             2  \n",
       "1             2  \n",
       "2             2  \n",
       "\n",
       "[3 rows x 22 columns]"
      ]
     },
     "execution_count": 145,
     "metadata": {},
     "output_type": "execute_result"
    }
   ],
   "source": [
    "x.head(3)"
   ]
  },
  {
   "cell_type": "code",
   "execution_count": 146,
   "id": "84b163b6",
   "metadata": {},
   "outputs": [],
   "source": [
    "std=StandardScaler()\n",
    "std_x=pd.DataFrame(std.fit_transform(x),columns=x.columns)"
   ]
  },
  {
   "cell_type": "code",
   "execution_count": 147,
   "id": "af61f9bc",
   "metadata": {},
   "outputs": [],
   "source": [
    "x_train,x_test,y_train,y_test=train_test_split(std_x,y,test_size=0.2,random_state=42,stratify=y)"
   ]
  },
  {
   "cell_type": "code",
   "execution_count": 148,
   "id": "c860e030",
   "metadata": {},
   "outputs": [
    {
     "name": "stdout",
     "output_type": "stream",
     "text": [
      "Epoch 1/35\n",
      "2910/2910 [==============================] - 9s 3ms/step - loss: 0.4624 - accuracy: 0.7920 - val_loss: 0.3825 - val_accuracy: 0.8406\n",
      "Epoch 2/35\n",
      "2910/2910 [==============================] - 8s 3ms/step - loss: 0.4208 - accuracy: 0.8105 - val_loss: 0.3704 - val_accuracy: 0.8435\n",
      "Epoch 3/35\n",
      "2910/2910 [==============================] - 8s 3ms/step - loss: 0.4061 - accuracy: 0.8218 - val_loss: 0.3633 - val_accuracy: 0.8464\n",
      "Epoch 4/35\n",
      "2910/2910 [==============================] - 8s 3ms/step - loss: 0.3994 - accuracy: 0.8278 - val_loss: 0.3606 - val_accuracy: 0.8461\n",
      "Epoch 5/35\n",
      "2910/2910 [==============================] - 8s 3ms/step - loss: 0.3945 - accuracy: 0.8302 - val_loss: 0.3580 - val_accuracy: 0.8468\n",
      "Epoch 6/35\n",
      "2910/2910 [==============================] - 8s 3ms/step - loss: 0.3897 - accuracy: 0.8299 - val_loss: 0.3559 - val_accuracy: 0.8482\n",
      "Epoch 7/35\n",
      "2910/2910 [==============================] - 8s 3ms/step - loss: 0.3867 - accuracy: 0.8326 - val_loss: 0.3572 - val_accuracy: 0.8470\n",
      "Epoch 8/35\n",
      "2910/2910 [==============================] - 8s 3ms/step - loss: 0.3858 - accuracy: 0.8323 - val_loss: 0.3549 - val_accuracy: 0.8474\n",
      "Epoch 9/35\n",
      "2910/2910 [==============================] - 8s 3ms/step - loss: 0.3834 - accuracy: 0.8334 - val_loss: 0.3532 - val_accuracy: 0.8482\n",
      "Epoch 10/35\n",
      "2910/2910 [==============================] - 9s 3ms/step - loss: 0.3821 - accuracy: 0.8325 - val_loss: 0.3519 - val_accuracy: 0.8485\n",
      "Epoch 11/35\n",
      "2910/2910 [==============================] - 7s 2ms/step - loss: 0.3795 - accuracy: 0.8343 - val_loss: 0.3518 - val_accuracy: 0.8477\n",
      "Epoch 12/35\n",
      "2910/2910 [==============================] - 8s 3ms/step - loss: 0.3790 - accuracy: 0.8351 - val_loss: 0.3502 - val_accuracy: 0.8491\n",
      "Epoch 13/35\n",
      "2910/2910 [==============================] - 8s 3ms/step - loss: 0.3784 - accuracy: 0.8341 - val_loss: 0.3522 - val_accuracy: 0.8471\n",
      "Epoch 14/35\n",
      "2910/2910 [==============================] - 6s 2ms/step - loss: 0.3764 - accuracy: 0.8352 - val_loss: 0.3499 - val_accuracy: 0.8485\n",
      "Epoch 15/35\n",
      "2910/2910 [==============================] - 6s 2ms/step - loss: 0.3752 - accuracy: 0.8357 - val_loss: 0.3494 - val_accuracy: 0.8490\n",
      "Epoch 16/35\n",
      "2910/2910 [==============================] - 6s 2ms/step - loss: 0.3764 - accuracy: 0.8354 - val_loss: 0.3486 - val_accuracy: 0.8507\n",
      "Epoch 17/35\n",
      "2910/2910 [==============================] - 6s 2ms/step - loss: 0.3754 - accuracy: 0.8346 - val_loss: 0.3489 - val_accuracy: 0.8488\n",
      "Epoch 18/35\n",
      "2910/2910 [==============================] - 6s 2ms/step - loss: 0.3736 - accuracy: 0.8362 - val_loss: 0.3502 - val_accuracy: 0.8476\n",
      "Epoch 19/35\n",
      "2910/2910 [==============================] - 6s 2ms/step - loss: 0.3740 - accuracy: 0.8365 - val_loss: 0.3487 - val_accuracy: 0.8488\n",
      "Epoch 20/35\n",
      "2910/2910 [==============================] - 7s 2ms/step - loss: 0.3715 - accuracy: 0.8361 - val_loss: 0.3493 - val_accuracy: 0.8493\n",
      "Epoch 21/35\n",
      "2910/2910 [==============================] - 7s 2ms/step - loss: 0.3705 - accuracy: 0.8367 - val_loss: 0.3491 - val_accuracy: 0.8473\n",
      "Epoch 22/35\n",
      "2910/2910 [==============================] - 7s 2ms/step - loss: 0.3710 - accuracy: 0.8367 - val_loss: 0.3491 - val_accuracy: 0.8491\n",
      "Epoch 23/35\n",
      "2910/2910 [==============================] - 7s 2ms/step - loss: 0.3688 - accuracy: 0.8368 - val_loss: 0.3469 - val_accuracy: 0.8500\n",
      "Epoch 24/35\n",
      "2910/2910 [==============================] - 7s 2ms/step - loss: 0.3677 - accuracy: 0.8371 - val_loss: 0.3482 - val_accuracy: 0.8494\n",
      "Epoch 25/35\n",
      "2910/2910 [==============================] - 7s 2ms/step - loss: 0.3691 - accuracy: 0.8366 - val_loss: 0.3475 - val_accuracy: 0.8497\n",
      "Epoch 26/35\n",
      "2910/2910 [==============================] - 7s 2ms/step - loss: 0.3688 - accuracy: 0.8386 - val_loss: 0.3479 - val_accuracy: 0.8491\n",
      "Epoch 27/35\n",
      "2910/2910 [==============================] - 7s 2ms/step - loss: 0.3672 - accuracy: 0.8376 - val_loss: 0.3480 - val_accuracy: 0.8502\n",
      "Epoch 28/35\n",
      "2910/2910 [==============================] - 7s 2ms/step - loss: 0.3669 - accuracy: 0.8382 - val_loss: 0.3484 - val_accuracy: 0.8494\n",
      "Epoch 29/35\n",
      "2910/2910 [==============================] - 7s 2ms/step - loss: 0.3654 - accuracy: 0.8380 - val_loss: 0.3478 - val_accuracy: 0.8501\n",
      "Epoch 30/35\n",
      "2910/2910 [==============================] - 7s 2ms/step - loss: 0.3649 - accuracy: 0.8390 - val_loss: 0.3470 - val_accuracy: 0.8501\n",
      "Epoch 31/35\n",
      "2910/2910 [==============================] - 6s 2ms/step - loss: 0.3660 - accuracy: 0.8376 - val_loss: 0.3470 - val_accuracy: 0.8500\n",
      "Epoch 32/35\n",
      "2910/2910 [==============================] - 7s 2ms/step - loss: 0.3629 - accuracy: 0.8409 - val_loss: 0.3468 - val_accuracy: 0.8507\n",
      "Epoch 33/35\n",
      "2910/2910 [==============================] - 7s 2ms/step - loss: 0.3641 - accuracy: 0.8400 - val_loss: 0.3469 - val_accuracy: 0.8512\n",
      "Epoch 34/35\n",
      "2910/2910 [==============================] - 7s 2ms/step - loss: 0.3637 - accuracy: 0.8391 - val_loss: 0.3486 - val_accuracy: 0.8491\n",
      "Epoch 35/35\n",
      "2910/2910 [==============================] - 7s 2ms/step - loss: 0.3627 - accuracy: 0.8404 - val_loss: 0.3473 - val_accuracy: 0.8504\n"
     ]
    }
   ],
   "source": [
    "# #Early stopping\n",
    "# early_stopping = callbacks.EarlyStopping(\n",
    "#     min_delta=0.001, # minimium amount of change to count as an improvement\n",
    "#     patience=20, # how many epochs to wait before stopping\n",
    "#     restore_best_weights=True,\n",
    "# )\n",
    "\n",
    "# Initialising the NN\n",
    "model = Sequential()\n",
    "\n",
    "# layers\n",
    "\n",
    "model.add(Dense(units = 32, activation = 'relu', input_dim = 22))\n",
    "model.add(Dense(units = 64, activation = 'relu'))\n",
    "model.add(Dense(units = 120, activation = 'relu'))\n",
    "model.add(Dropout(0.25))\n",
    "model.add(Dense(units = 16, activation = 'relu'))\n",
    "model.add(Dropout(0.25))\n",
    "model.add(Dense(units = 8, activation = 'relu'))\n",
    "model.add(Dropout(0.5))\n",
    "model.add(Dense(units = 1, activation = 'sigmoid'))\n",
    "\n",
    "# Compiling the ANN\n",
    "opt = Adam(learning_rate=0.0001)\n",
    "model.compile(optimizer = opt, loss = 'binary_crossentropy', metrics = ['accuracy'])\n",
    "\n",
    "# Train the ANN\n",
    "# history = model.fit(x_train, y_train, batch_size = 32, epochs = 35, callbacks=[early_stopping], validation_split=0.2)\n",
    "history = model.fit(x_train, y_train, batch_size = 32, epochs = 35, validation_split=0.2)"
   ]
  },
  {
   "cell_type": "code",
   "execution_count": 175,
   "id": "ec978cd9",
   "metadata": {},
   "outputs": [
    {
     "name": "stdout",
     "output_type": "stream",
     "text": [
      "Model: \"sequential_2\"\n",
      "_________________________________________________________________\n",
      " Layer (type)                Output Shape              Param #   \n",
      "=================================================================\n",
      " dense_10 (Dense)            (None, 32)                736       \n",
      "                                                                 \n",
      " dense_11 (Dense)            (None, 64)                2112      \n",
      "                                                                 \n",
      " dense_12 (Dense)            (None, 120)               7800      \n",
      "                                                                 \n",
      " dropout (Dropout)           (None, 120)               0         \n",
      "                                                                 \n",
      " dense_13 (Dense)            (None, 16)                1936      \n",
      "                                                                 \n",
      " dropout_1 (Dropout)         (None, 16)                0         \n",
      "                                                                 \n",
      " dense_14 (Dense)            (None, 8)                 136       \n",
      "                                                                 \n",
      " dropout_2 (Dropout)         (None, 8)                 0         \n",
      "                                                                 \n",
      " dense_15 (Dense)            (None, 1)                 9         \n",
      "                                                                 \n",
      "=================================================================\n",
      "Total params: 12729 (49.72 KB)\n",
      "Trainable params: 12729 (49.72 KB)\n",
      "Non-trainable params: 0 (0.00 Byte)\n",
      "_________________________________________________________________\n"
     ]
    }
   ],
   "source": [
    "model.summary()"
   ]
  },
  {
   "cell_type": "markdown",
   "id": "75696623",
   "metadata": {},
   "source": [
    "### model evaluation"
   ]
  },
  {
   "cell_type": "markdown",
   "id": "e0944205",
   "metadata": {},
   "source": [
    "##### ann evaluation"
   ]
  },
  {
   "cell_type": "code",
   "execution_count": 149,
   "id": "076cc7a9",
   "metadata": {},
   "outputs": [
    {
     "data": {
      "image/png": "[encoded data removed]",
      "text/plain": [
       "<Figure size 640x480 with 1 Axes>"
      ]
     },
     "metadata": {},
     "output_type": "display_data"
    }
   ],
   "source": [
    "history_df = pd.DataFrame(history.history)\n",
    "\n",
    "plt.plot(history_df.loc[:, ['loss']], label='Training loss')\n",
    "plt.plot(history_df.loc[:, ['val_loss']],label='Validation loss')\n",
    "plt.title('Training and Validation loss')\n",
    "plt.xlabel('Epochs')\n",
    "plt.ylabel('Loss')\n",
    "plt.legend(loc=\"best\")\n",
    "\n",
    "plt.show()"
   ]
  },
  {
   "cell_type": "code",
   "execution_count": 150,
   "id": "b777c219",
   "metadata": {},
   "outputs": [
    {
     "data": {
      "image/png": "[encoded data removed]",
      "text/plain": [
       "<Figure size 640x480 with 1 Axes>"
      ]
     },
     "metadata": {},
     "output_type": "display_data"
    }
   ],
   "source": [
    "history_df = pd.DataFrame(history.history)\n",
    "\n",
    "plt.plot(history_df.loc[:, ['accuracy']], label='Training accuracy')\n",
    "plt.plot(history_df.loc[:, ['val_accuracy']], label='Validation accuracy')\n",
    "\n",
    "plt.title('Training and Validation accuracy')\n",
    "plt.xlabel('Epochs')\n",
    "plt.ylabel('Accuracy')\n",
    "plt.legend()\n",
    "plt.show()\n"
   ]
  },
  {
   "cell_type": "code",
   "execution_count": 151,
   "id": "c84679ba",
   "metadata": {},
   "outputs": [
    {
     "name": "stdout",
     "output_type": "stream",
     "text": [
      "910/910 [==============================] - 1s 958us/step\n"
     ]
    }
   ],
   "source": [
    "# Predicting the test set results\n",
    "y_pred = model.predict(x_test)\n",
    "y_pred = (y_pred > 0.5)"
   ]
  },
  {
   "cell_type": "code",
   "execution_count": 152,
   "id": "7767b773",
   "metadata": {},
   "outputs": [
    {
     "data": {
      "text/plain": [
       "<Axes: >"
      ]
     },
     "execution_count": 152,
     "metadata": {},
     "output_type": "execute_result"
    },
    {
     "data": {
      "image/png": "[encoded data removed]",
      "text/plain": [
       "<Figure size 400x200 with 2 Axes>"
      ]
     },
     "metadata": {},
     "output_type": "display_data"
    }
   ],
   "source": [
    "# confusion matrix\n",
    "cmap1 = sns.diverging_palette(260,-10,s=50, l=75, n=5, as_cmap=True)\n",
    "plt.subplots(figsize=(4,2))\n",
    "cf_matrix = confusion_matrix(y_test, y_pred)\n",
    "sns.heatmap((cf_matrix/np.sum(cf_matrix))*100, cmap = cmap1, annot = True, annot_kws = {'size':15})"
   ]
  },
  {
   "cell_type": "code",
   "execution_count": 153,
   "id": "69de40e6",
   "metadata": {},
   "outputs": [
    {
     "name": "stdout",
     "output_type": "stream",
     "text": [
      "              precision    recall  f1-score   support\n",
      "\n",
      "           0       0.87      0.96      0.91     22717\n",
      "           1       0.77      0.47      0.59      6375\n",
      "\n",
      "    accuracy                           0.85     29092\n",
      "   macro avg       0.82      0.72      0.75     29092\n",
      "weighted avg       0.85      0.85      0.84     29092\n",
      "\n"
     ]
    }
   ],
   "source": [
    "print(classification_report(y_test, y_pred))"
   ]
  },
  {
   "cell_type": "markdown",
   "id": "b1cf64aa",
   "metadata": {},
   "source": [
    "#### testing on unseen data"
   ]
  },
  {
   "cell_type": "code",
   "execution_count": 156,
   "id": "d58d19d8",
   "metadata": {},
   "outputs": [
    {
     "name": "stdout",
     "output_type": "stream",
     "text": [
      "1/1 [==============================] - 0s 9ms/step\n",
      "Enjoy the rain tommorrow\n"
     ]
    }
   ],
   "source": [
    "result=\"Enjoy the rain tommorrow\" if model.predict(std_x.iloc[[3337]])>0.5 else \"Enjoy full of vitamin D tommorrow\"\n",
    "print(result)"
   ]
  },
  {
   "cell_type": "code",
   "execution_count": 155,
   "id": "9ab2cc42",
   "metadata": {},
   "outputs": [
    {
     "data": {
      "text/plain": [
       "1"
      ]
     },
     "execution_count": 155,
     "metadata": {},
     "output_type": "execute_result"
    }
   ],
   "source": [
    "y.iloc[3337]"
   ]
  },
  {
   "cell_type": "markdown",
   "id": "d11aa0f2",
   "metadata": {},
   "source": [
    "#### exporting the model and scalar module"
   ]
  },
  {
   "cell_type": "code",
   "execution_count": 18,
   "id": "545e1676",
   "metadata": {},
   "outputs": [],
   "source": [
    "import pickle\n",
    "import json"
   ]
  },
  {
   "cell_type": "code",
   "execution_count": 160,
   "id": "2e2acdbc",
   "metadata": {},
   "outputs": [],
   "source": [
    "with open (\"ann.pkl\",\"wb\") as file:\n",
    "    pickle.dump(model,file)"
   ]
  },
  {
   "cell_type": "code",
   "execution_count": 161,
   "id": "bea7a085",
   "metadata": {},
   "outputs": [],
   "source": [
    "with open (\"standardscalar.pkl\",\"wb\") as file:\n",
    "    pickle.dump(std,file)"
   ]
  },
  {
   "cell_type": "code",
   "execution_count": 24,
   "id": "ae0dc2ad",
   "metadata": {},
   "outputs": [
    {
     "data": {
      "text/plain": [
       "22"
      ]
     },
     "execution_count": 24,
     "metadata": {},
     "output_type": "execute_result"
    }
   ],
   "source": [
    "project_data={\"columns\":list(x.columns)}"
   ]
  },
  {
   "cell_type": "code",
   "execution_count": 22,
   "id": "a6add319",
   "metadata": {},
   "outputs": [],
   "source": [
    "with open(\"data.json\",\"w\") as file:\n",
    "    json.dump(project_data,file)"
   ]
  }
 ],
 "metadata": {
  "kernelspec": {
   "display_name": "Python 3 (ipykernel)",
   "language": "python",
   "name": "python3"
  },
  "language_info": {
   "codemirror_mode": {
    "name": "ipython",
    "version": 3
   },
   "file_extension": ".py",
   "mimetype": "text/x-python",
   "name": "python",
   "nbconvert_exporter": "python",
   "pygments_lexer": "ipython3",
   "version": "3.10.9"
  }
 },
 "nbformat": 4,
 "nbformat_minor": 5
}
